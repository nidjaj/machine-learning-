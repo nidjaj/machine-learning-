{
 "cells": [
  {
   "cell_type": "code",
   "execution_count": 2,
   "metadata": {},
   "outputs": [],
   "source": [
    "from sklearn.datasets import load_digits\n"
   ]
  },
  {
   "cell_type": "code",
   "execution_count": 11,
   "metadata": {},
   "outputs": [],
   "source": [
    "# loading digit data\n",
    "digit= load_digits()"
   ]
  },
  {
   "cell_type": "code",
   "execution_count": 12,
   "metadata": {},
   "outputs": [
    {
     "data": {
      "text/plain": [
       "['DESCR', 'data', 'images', 'target', 'target_names']"
      ]
     },
     "execution_count": 12,
     "metadata": {},
     "output_type": "execute_result"
    }
   ],
   "source": [
    "dir(digit)"
   ]
  },
  {
   "cell_type": "code",
   "execution_count": 13,
   "metadata": {},
   "outputs": [],
   "source": [
    "# features \n",
    "features=digit.data\n"
   ]
  },
  {
   "cell_type": "code",
   "execution_count": 14,
   "metadata": {},
   "outputs": [],
   "source": [
    "label=digit.target"
   ]
  },
  {
   "cell_type": "code",
   "execution_count": 15,
   "metadata": {},
   "outputs": [],
   "source": [
    "from sklearn.model_selection import train_test_split"
   ]
  },
  {
   "cell_type": "code",
   "execution_count": 19,
   "metadata": {},
   "outputs": [],
   "source": [
    "X,x,Y,y=train_test_split(features,label,test_size=0.2)"
   ]
  },
  {
   "cell_type": "code",
   "execution_count": 17,
   "metadata": {},
   "outputs": [],
   "source": [
    "import matplotlib.pyplot as plt"
   ]
  },
  {
   "cell_type": "code",
   "execution_count": 18,
   "metadata": {},
   "outputs": [
    {
     "data": {
      "text/plain": [
       "<matplotlib.image.AxesImage at 0x7f0a7b459be0>"
      ]
     },
     "execution_count": 18,
     "metadata": {},
     "output_type": "execute_result"
    },
    {
     "data": {
      "image/png": "[encoded data removed]",
      "text/plain": [
       "<Figure size 432x288 with 1 Axes>"
      ]
     },
     "metadata": {
      "needs_background": "light"
     },
     "output_type": "display_data"
    }
   ],
   "source": [
    "plt.imshow(digit.images[0])"
   ]
  },
  {
   "cell_type": "code",
   "execution_count": 21,
   "metadata": {},
   "outputs": [],
   "source": [
    "# now calling svc\n",
    "from sklearn.svm import SVC"
   ]
  },
  {
   "cell_type": "code",
   "execution_count": 22,
   "metadata": {},
   "outputs": [],
   "source": [
    "# calling clf\n",
    "clf=SVC()"
   ]
  },
  {
   "cell_type": "code",
   "execution_count": 24,
   "metadata": {},
   "outputs": [
    {
     "name": "stderr",
     "output_type": "stream",
     "text": [
      "/usr/local/lib/python3.6/dist-packages/sklearn/svm/base.py:193: FutureWarning: The default value of gamma will change from 'auto' to 'scale' in version 0.22 to account better for unscaled features. Set gamma explicitly to 'auto' or 'scale' to avoid this warning.\n",
      "  \"avoid this warning.\", FutureWarning)\n"
     ]
    }
   ],
   "source": [
    "# now training my classifier\n",
    "\n",
    "trained=clf.fit(X,Y)"
   ]
  },
  {
   "cell_type": "code",
   "execution_count": 26,
   "metadata": {},
   "outputs": [],
   "source": [
    "# now time predition\n",
    "output=trained.predict(x)"
   ]
  },
  {
   "cell_type": "code",
   "execution_count": 27,
   "metadata": {},
   "outputs": [
    {
     "data": {
      "text/plain": [
       "array([5, 5, 7, 5, 5, 5, 7, 5, 4, 7, 6, 6, 6, 0, 5, 2, 5, 0, 5, 8, 5, 9,\n",
       "       1, 0, 5, 5, 4, 9, 5, 5, 9, 5, 5, 6, 5, 5, 7, 2, 5, 5, 5, 5, 2, 5,\n",
       "       5, 5, 5, 5, 6, 7, 5, 5, 5, 5, 5, 5, 3, 5, 5, 5, 8, 5, 5, 5, 5, 5,\n",
       "       3, 7, 9, 6, 1, 7, 6, 3, 5, 5, 5, 4, 5, 5, 5, 5, 1, 5, 5, 5, 5, 5,\n",
       "       6, 3, 0, 5, 5, 5, 5, 5, 0, 5, 9, 3, 3, 5, 5, 5, 5, 5, 5, 5, 5, 5,\n",
       "       5, 5, 3, 5, 7, 5, 5, 5, 5, 6, 5, 5, 5, 5, 5, 5, 6, 0, 3, 5, 5, 5,\n",
       "       5, 7, 5, 5, 3, 5, 1, 4, 5, 5, 0, 5, 5, 4, 3, 5, 9, 5, 5, 5, 5, 5,\n",
       "       6, 5, 1, 5, 5, 5, 5, 5, 5, 9, 5, 5, 7, 5, 5, 5, 5, 1, 5, 5, 5, 9,\n",
       "       5, 5, 7, 5, 0, 6, 5, 3, 6, 9, 3, 5, 5, 5, 5, 5, 5, 5, 4, 5, 5, 5,\n",
       "       6, 0, 5, 5, 5, 5, 5, 5, 6, 5, 1, 5, 9, 2, 9, 5, 5, 5, 5, 5, 5, 2,\n",
       "       5, 5, 5, 5, 6, 2, 5, 5, 5, 2, 2, 5, 5, 5, 6, 3, 5, 5, 5, 5, 0, 5,\n",
       "       6, 5, 5, 6, 2, 5, 5, 5, 5, 1, 5, 0, 5, 5, 5, 5, 5, 5, 5, 5, 0, 5,\n",
       "       5, 5, 5, 5, 5, 5, 5, 5, 3, 5, 5, 5, 5, 5, 5, 5, 5, 6, 5, 2, 5, 5,\n",
       "       1, 7, 5, 5, 5, 5, 5, 7, 5, 5, 0, 5, 9, 5, 5, 5, 5, 5, 7, 5, 5, 5,\n",
       "       5, 5, 5, 5, 5, 5, 6, 5, 5, 5, 5, 5, 5, 5, 9, 5, 9, 0, 5, 6, 7, 5,\n",
       "       6, 5, 5, 5, 5, 5, 5, 4, 5, 7, 5, 9, 1, 5, 5, 5, 5, 0, 5, 0, 5, 5,\n",
       "       5, 7, 0, 5, 5, 5, 5, 5])"
      ]
     },
     "execution_count": 27,
     "metadata": {},
     "output_type": "execute_result"
    }
   ],
   "source": [
    "output"
   ]
  },
  {
   "cell_type": "code",
   "execution_count": 28,
   "metadata": {},
   "outputs": [
    {
     "data": {
      "text/plain": [
       "array([8, 4, 7, 3, 5, 0, 7, 7, 4, 7, 6, 6, 6, 0, 0, 2, 4, 0, 2, 8, 7, 9,\n",
       "       1, 0, 3, 0, 4, 9, 0, 5, 9, 4, 4, 6, 3, 9, 7, 2, 8, 2, 2, 4, 2, 7,\n",
       "       9, 6, 2, 6, 6, 7, 1, 4, 4, 8, 7, 8, 3, 8, 4, 5, 8, 5, 8, 2, 8, 9,\n",
       "       3, 7, 9, 6, 1, 7, 6, 3, 3, 4, 4, 4, 7, 2, 5, 3, 1, 0, 7, 5, 8, 8,\n",
       "       6, 3, 0, 4, 4, 8, 5, 6, 0, 1, 9, 3, 3, 1, 0, 5, 8, 8, 4, 8, 1, 8,\n",
       "       3, 0, 3, 8, 7, 5, 1, 1, 9, 6, 2, 9, 2, 2, 8, 5, 6, 0, 3, 4, 9, 3,\n",
       "       1, 7, 0, 4, 3, 4, 1, 4, 9, 4, 0, 8, 4, 4, 3, 1, 9, 1, 9, 4, 9, 1,\n",
       "       6, 5, 1, 2, 0, 4, 3, 9, 0, 9, 5, 2, 7, 8, 3, 0, 2, 1, 3, 5, 6, 9,\n",
       "       5, 3, 7, 7, 0, 6, 2, 3, 6, 9, 3, 1, 8, 2, 3, 3, 0, 6, 4, 5, 8, 9,\n",
       "       6, 0, 1, 5, 0, 5, 4, 3, 6, 6, 1, 1, 9, 2, 9, 4, 0, 9, 1, 5, 4, 2,\n",
       "       1, 5, 6, 3, 6, 2, 5, 5, 3, 2, 2, 9, 3, 2, 6, 3, 8, 2, 8, 2, 0, 4,\n",
       "       6, 8, 0, 6, 2, 0, 9, 1, 4, 1, 3, 0, 0, 0, 1, 2, 1, 0, 1, 3, 0, 5,\n",
       "       4, 8, 5, 5, 5, 8, 6, 8, 3, 4, 1, 4, 6, 5, 4, 1, 4, 6, 9, 2, 0, 2,\n",
       "       1, 7, 2, 2, 4, 0, 8, 7, 8, 7, 0, 9, 9, 8, 0, 3, 1, 2, 7, 3, 1, 6,\n",
       "       4, 0, 4, 4, 0, 6, 6, 1, 4, 5, 3, 0, 1, 3, 9, 9, 9, 0, 1, 6, 7, 1,\n",
       "       6, 8, 6, 8, 0, 8, 5, 4, 8, 7, 4, 9, 1, 5, 6, 8, 3, 0, 8, 0, 5, 3,\n",
       "       4, 7, 0, 4, 1, 2, 8, 7])"
      ]
     },
     "execution_count": 28,
     "metadata": {},
     "output_type": "execute_result"
    }
   ],
   "source": [
    "y"
   ]
  },
  {
   "cell_type": "code",
   "execution_count": 29,
   "metadata": {},
   "outputs": [],
   "source": [
    "from sklearn.metrics import accuracy_score"
   ]
  },
  {
   "cell_type": "code",
   "execution_count": 30,
   "metadata": {},
   "outputs": [
    {
     "data": {
      "text/plain": [
       "0.4027777777777778"
      ]
     },
     "execution_count": 30,
     "metadata": {},
     "output_type": "execute_result"
    }
   ],
   "source": [
    "accuracy_score(output,y)"
   ]
  },
  {
   "cell_type": "code",
   "execution_count": 32,
   "metadata": {},
   "outputs": [
    {
     "data": {
      "text/plain": [
       "10"
      ]
     },
     "execution_count": 32,
     "metadata": {},
     "output_type": "execute_result"
    }
   ],
   "source": [
    "6+4"
   ]
  },
  {
   "cell_type": "code",
   "execution_count": 33,
   "metadata": {},
   "outputs": [],
   "source": [
    "import smtplib\n"
   ]
  },
  {
   "cell_type": "code",
   "execution_count": 34,
   "metadata": {},
   "outputs": [
    {
     "data": {
      "text/plain": [
       "['CRLF',\n",
       " 'LMTP',\n",
       " 'LMTP_PORT',\n",
       " 'OLDSTYLE_AUTH',\n",
       " 'SMTP',\n",
       " 'SMTPAuthenticationError',\n",
       " 'SMTPConnectError',\n",
       " 'SMTPDataError',\n",
       " 'SMTPException',\n",
       " 'SMTPHeloError',\n",
       " 'SMTPNotSupportedError',\n",
       " 'SMTPRecipientsRefused',\n",
       " 'SMTPResponseException',\n",
       " 'SMTPSenderRefused',\n",
       " 'SMTPServerDisconnected',\n",
       " 'SMTP_PORT',\n",
       " 'SMTP_SSL',\n",
       " 'SMTP_SSL_PORT',\n",
       " '_MAXLINE',\n",
       " '__all__',\n",
       " '__builtins__',\n",
       " '__cached__',\n",
       " '__doc__',\n",
       " '__file__',\n",
       " '__loader__',\n",
       " '__name__',\n",
       " '__package__',\n",
       " '__spec__',\n",
       " '_addr_only',\n",
       " '_fix_eols',\n",
       " '_have_ssl',\n",
       " '_quote_periods',\n",
       " 'bCRLF',\n",
       " 'base64',\n",
       " 'copy',\n",
       " 'datetime',\n",
       " 'email',\n",
       " 'encode_base64',\n",
       " 'hmac',\n",
       " 'io',\n",
       " 'quoteaddr',\n",
       " 'quotedata',\n",
       " 're',\n",
       " 'socket',\n",
       " 'ssl',\n",
       " 'sys']"
      ]
     },
     "execution_count": 34,
     "metadata": {},
     "output_type": "execute_result"
    }
   ],
   "source": [
    "dir(smtplib)"
   ]
  },
  {
   "cell_type": "code",
   "execution_count": 40,
   "metadata": {},
   "outputs": [],
   "source": [
    "\n"
   ]
  },
  {
   "cell_type": "code",
   "execution_count": null,
   "metadata": {},
   "outputs": [],
   "source": []
  },
  {
   "cell_type": "code",
   "execution_count": null,
   "metadata": {},
   "outputs": [],
   "source": [
    "\n",
    " "
   ]
  },
  {
   "cell_type": "code",
   "execution_count": null,
   "metadata": {},
   "outputs": [],
   "source": []
  },
  {
   "cell_type": "code",
   "execution_count": null,
   "metadata": {},
   "outputs": [],
   "source": []
  },
  {
   "cell_type": "code",
   "execution_count": null,
   "metadata": {},
   "outputs": [],
   "source": []
  },
  {
   "cell_type": "code",
   "execution_count": null,
   "metadata": {},
   "outputs": [],
   "source": []
  },
  {
   "cell_type": "code",
   "execution_count": null,
   "metadata": {},
   "outputs": [],
   "source": [
    "\n",
    "      "
   ]
  },
  {
   "cell_type": "code",
   "execution_count": null,
   "metadata": {},
   "outputs": [],
   "source": []
  }
 ],
 "metadata": {
  "kernelspec": {
   "display_name": "Python 3",
   "language": "python",
   "name": "python3"
  },
  "language_info": {
   "codemirror_mode": {
    "name": "ipython",
    "version": 3
   },
   "file_extension": ".py",
   "mimetype": "text/x-python",
   "name": "python",
   "nbconvert_exporter": "python",
   "pygments_lexer": "ipython3",
   "version": "3.6.8"
  }
 },
 "nbformat": 4,
 "nbformat_minor": 2
}
