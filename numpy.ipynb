{
  "nbformat": 4,
  "nbformat_minor": 0,
  "metadata": {
    "colab": {
      "name": "numpy.ipynb",
      "provenance": [],
      "authorship_tag": "ABX9TyMqbL/tC2bg+p5Jgoa+phNR",
      "include_colab_link": true
    },
    "kernelspec": {
      "name": "python3",
      "display_name": "Python 3"
    }
  },
  "cells": [
    {
      "cell_type": "markdown",
      "metadata": {
        "id": "view-in-github",
        "colab_type": "text"
      },
      "source": [
        "<a href=\"https://colab.research.google.com/github/nidjaj/machine-learning-/blob/master/numpy.ipynb\" target=\"_parent\"><img src=\"https://colab.research.google.com/assets/colab-badge.svg\" alt=\"Open In Colab\"/></a>"
      ]
    },
    {
      "cell_type": "code",
      "metadata": {
        "id": "UogbWcfhNiEn",
        "colab_type": "code",
        "colab": {}
      },
      "source": [
        "import numpy as np"
      ],
      "execution_count": 0,
      "outputs": []
    },
    {
      "cell_type": "code",
      "metadata": {
        "id": "0syCDGxYNlwG",
        "colab_type": "code",
        "colab": {}
      },
      "source": [
        "a=np.array([[1,4],[2,6]])"
      ],
      "execution_count": 0,
      "outputs": []
    },
    {
      "cell_type": "code",
      "metadata": {
        "id": "bMyfTxa9NtnH",
        "colab_type": "code",
        "colab": {
          "base_uri": "https://localhost:8080/",
          "height": 51
        },
        "outputId": "c09560d9-a53d-4475-9cbd-26f877a78e47"
      },
      "source": [
        "a"
      ],
      "execution_count": 4,
      "outputs": [
        {
          "output_type": "execute_result",
          "data": {
            "text/plain": [
              "array([[1, 4],\n",
              "       [2, 6]])"
            ]
          },
          "metadata": {
            "tags": []
          },
          "execution_count": 4
        }
      ]
    },
    {
      "cell_type": "code",
      "metadata": {
        "id": "o-GpE74sN7xC",
        "colab_type": "code",
        "colab": {}
      },
      "source": [
        "x = np.array([[1, 2], [3, 4]]) \n",
        "y = np.array([[5, 6], [7, 8]])"
      ],
      "execution_count": 0,
      "outputs": []
    },
    {
      "cell_type": "code",
      "metadata": {
        "id": "qBj_sZumOC-L",
        "colab_type": "code",
        "colab": {}
      },
      "source": [
        "v = np.array([9, 10]) \n",
        "w = np.array([11, 12]) "
      ],
      "execution_count": 0,
      "outputs": []
    },
    {
      "cell_type": "code",
      "metadata": {
        "id": "g3EVE1sNOHQX",
        "colab_type": "code",
        "colab": {
          "base_uri": "https://localhost:8080/",
          "height": 51
        },
        "outputId": "031580f8-8983-4cdf-c311-7686b159191d"
      },
      "source": [
        "print(np.dot(v, w), \"\\n\") "
      ],
      "execution_count": 7,
      "outputs": [
        {
          "output_type": "stream",
          "text": [
            "219 \n",
            "\n"
          ],
          "name": "stdout"
        }
      ]
    },
    {
      "cell_type": "code",
      "metadata": {
        "id": "LxRVRNXyOKvt",
        "colab_type": "code",
        "colab": {
          "base_uri": "https://localhost:8080/",
          "height": 34
        },
        "outputId": "83f12ea4-3d96-4b37-a3be-b66105651a61"
      },
      "source": [
        "np.linspace(1., 4.,  6)"
      ],
      "execution_count": 10,
      "outputs": [
        {
          "output_type": "execute_result",
          "data": {
            "text/plain": [
              "array([1. , 1.6, 2.2, 2.8, 3.4, 4. ])"
            ]
          },
          "metadata": {
            "tags": []
          },
          "execution_count": 10
        }
      ]
    },
    {
      "cell_type": "markdown",
      "metadata": {
        "id": "3ctEkAFHTfit",
        "colab_type": "text"
      },
      "source": [
        "linspace() will create arrays with a specified number of elements, and spaced equally between the specified beginning and end values. "
      ]
    },
    {
      "cell_type": "code",
      "metadata": {
        "id": "Rbv-gbtMTK1D",
        "colab_type": "code",
        "colab": {}
      },
      "source": [
        ""
      ],
      "execution_count": 0,
      "outputs": []
    },
    {
      "cell_type": "markdown",
      "metadata": {
        "id": "N-t8iKHnTpMV",
        "colab_type": "text"
      },
      "source": [
        "indices() will create a set of arrays (stacked as a one-higher dimensioned array), one per dimension with each representing variation in that dimension. An example illustrates much better than a verbal description:"
      ]
    },
    {
      "cell_type": "code",
      "metadata": {
        "id": "eg0DW1TNTqIu",
        "colab_type": "code",
        "colab": {
          "base_uri": "https://localhost:8080/",
          "height": 136
        },
        "outputId": "5bcb3d9a-ef9c-4eb7-a667-c861358f3aeb"
      },
      "source": [
        "np.indices((3,3))"
      ],
      "execution_count": 11,
      "outputs": [
        {
          "output_type": "execute_result",
          "data": {
            "text/plain": [
              "array([[[0, 0, 0],\n",
              "        [1, 1, 1],\n",
              "        [2, 2, 2]],\n",
              "\n",
              "       [[0, 1, 2],\n",
              "        [0, 1, 2],\n",
              "        [0, 1, 2]]])"
            ]
          },
          "metadata": {
            "tags": []
          },
          "execution_count": 11
        }
      ]
    },
    {
      "cell_type": "code",
      "metadata": {
        "id": "jQxGtqLFTs1X",
        "colab_type": "code",
        "colab": {
          "base_uri": "https://localhost:8080/",
          "height": 136
        },
        "outputId": "75417aa9-eb38-4af4-e8f7-5c16577d0fda"
      },
      "source": [
        "np.indices((3,2))"
      ],
      "execution_count": 12,
      "outputs": [
        {
          "output_type": "execute_result",
          "data": {
            "text/plain": [
              "array([[[0, 0],\n",
              "        [1, 1],\n",
              "        [2, 2]],\n",
              "\n",
              "       [[0, 1],\n",
              "        [0, 1],\n",
              "        [0, 1]]])"
            ]
          },
          "metadata": {
            "tags": []
          },
          "execution_count": 12
        }
      ]
    },
    {
      "cell_type": "code",
      "metadata": {
        "id": "WgZgW0w_T3aC",
        "colab_type": "code",
        "colab": {}
      },
      "source": [
        "data = u\"123456789\\n   4  7 9\\n   4567 9\""
      ],
      "execution_count": 0,
      "outputs": []
    },
    {
      "cell_type": "code",
      "metadata": {
        "id": "kX3kY6QXVi2j",
        "colab_type": "code",
        "colab": {}
      },
      "source": [
        "from io import StringIO"
      ],
      "execution_count": 0,
      "outputs": []
    },
    {
      "cell_type": "code",
      "metadata": {
        "id": "yXxdJVmqVYr7",
        "colab_type": "code",
        "colab": {
          "base_uri": "https://localhost:8080/",
          "height": 68
        },
        "outputId": "dd8a7f38-411b-4e2f-da98-085e82bc7643"
      },
      "source": [
        "np.genfromtxt(StringIO(data), delimiter=(4, 3, 2))"
      ],
      "execution_count": 16,
      "outputs": [
        {
          "output_type": "execute_result",
          "data": {
            "text/plain": [
              "array([[1234.,  567.,   89.],\n",
              "       [   4.,    7.,    9.],\n",
              "       [   4.,  567.,    9.]])"
            ]
          },
          "metadata": {
            "tags": []
          },
          "execution_count": 16
        }
      ]
    },
    {
      "cell_type": "code",
      "metadata": {
        "id": "jGHbaG6FVb-2",
        "colab_type": "code",
        "colab": {}
      },
      "source": [
        "data = u\"123456789\\n 4  7 9\\n4567 9\""
      ],
      "execution_count": 0,
      "outputs": []
    },
    {
      "cell_type": "code",
      "metadata": {
        "id": "mHe0bJQgVw07",
        "colab_type": "code",
        "colab": {
          "base_uri": "https://localhost:8080/",
          "height": 68
        },
        "outputId": "183cd568-a718-4088-cb87-1d4e0b1338c9"
      },
      "source": [
        "np.genfromtxt(StringIO(data), delimiter=(4, 3, 2))"
      ],
      "execution_count": 18,
      "outputs": [
        {
          "output_type": "execute_result",
          "data": {
            "text/plain": [
              "array([[1.234e+03, 5.670e+02, 8.900e+01],\n",
              "       [4.000e+00,       nan,       nan],\n",
              "       [4.567e+03, 9.000e+00,       nan]])"
            ]
          },
          "metadata": {
            "tags": []
          },
          "execution_count": 18
        }
      ]
    },
    {
      "cell_type": "code",
      "metadata": {
        "id": "60XlcR93VyeK",
        "colab_type": "code",
        "colab": {}
      },
      "source": [
        "x= np.arange(10)"
      ],
      "execution_count": 0,
      "outputs": []
    },
    {
      "cell_type": "code",
      "metadata": {
        "id": "RbIiUgEOW9gF",
        "colab_type": "code",
        "colab": {
          "base_uri": "https://localhost:8080/",
          "height": 34
        },
        "outputId": "134025cf-338b-48e3-c605-090f04cd920b"
      },
      "source": [
        "x"
      ],
      "execution_count": 24,
      "outputs": [
        {
          "output_type": "execute_result",
          "data": {
            "text/plain": [
              "array([0, 1, 2, 3, 4, 5, 6, 7, 8, 9])"
            ]
          },
          "metadata": {
            "tags": []
          },
          "execution_count": 24
        }
      ]
    },
    {
      "cell_type": "code",
      "metadata": {
        "id": "VbpjiEufW-Oc",
        "colab_type": "code",
        "colab": {}
      },
      "source": [
        "x.shape = (2,5)"
      ],
      "execution_count": 0,
      "outputs": []
    },
    {
      "cell_type": "code",
      "metadata": {
        "id": "BgbjnMzCXgfI",
        "colab_type": "code",
        "colab": {
          "base_uri": "https://localhost:8080/",
          "height": 51
        },
        "outputId": "314a30c8-173d-4dd1-e21b-54bc72d8f410"
      },
      "source": [
        "x"
      ],
      "execution_count": 26,
      "outputs": [
        {
          "output_type": "execute_result",
          "data": {
            "text/plain": [
              "array([[0, 1, 2, 3, 4],\n",
              "       [5, 6, 7, 8, 9]])"
            ]
          },
          "metadata": {
            "tags": []
          },
          "execution_count": 26
        }
      ]
    },
    {
      "cell_type": "code",
      "metadata": {
        "id": "XnOEhVhjXhpa",
        "colab_type": "code",
        "colab": {}
      },
      "source": [
        "y = np.arange(35).reshape(5,7)"
      ],
      "execution_count": 0,
      "outputs": []
    },
    {
      "cell_type": "code",
      "metadata": {
        "id": "6gFL83cLXvWc",
        "colab_type": "code",
        "colab": {
          "base_uri": "https://localhost:8080/",
          "height": 102
        },
        "outputId": "50b7a2cc-aa3f-4f20-8a73-b7fccdce4fe0"
      },
      "source": [
        "y"
      ],
      "execution_count": 28,
      "outputs": [
        {
          "output_type": "execute_result",
          "data": {
            "text/plain": [
              "array([[ 0,  1,  2,  3,  4,  5,  6],\n",
              "       [ 7,  8,  9, 10, 11, 12, 13],\n",
              "       [14, 15, 16, 17, 18, 19, 20],\n",
              "       [21, 22, 23, 24, 25, 26, 27],\n",
              "       [28, 29, 30, 31, 32, 33, 34]])"
            ]
          },
          "metadata": {
            "tags": []
          },
          "execution_count": 28
        }
      ]
    },
    {
      "cell_type": "code",
      "metadata": {
        "id": "E06qlvVqXxzn",
        "colab_type": "code",
        "colab": {
          "base_uri": "https://localhost:8080/",
          "height": 51
        },
        "outputId": "f2eb1ea2-6f40-4413-84ee-75f6bc0c4664"
      },
      "source": [
        "y[1:5:2,::3]"
      ],
      "execution_count": 29,
      "outputs": [
        {
          "output_type": "execute_result",
          "data": {
            "text/plain": [
              "array([[ 7, 10, 13],\n",
              "       [21, 24, 27]])"
            ]
          },
          "metadata": {
            "tags": []
          },
          "execution_count": 29
        }
      ]
    },
    {
      "cell_type": "code",
      "metadata": {
        "id": "qplY8_5KYHVs",
        "colab_type": "code",
        "colab": {}
      },
      "source": [
        "x = np.arange(10,1,-1)"
      ],
      "execution_count": 0,
      "outputs": []
    },
    {
      "cell_type": "code",
      "metadata": {
        "id": "2NAj956AYiKw",
        "colab_type": "code",
        "colab": {
          "base_uri": "https://localhost:8080/",
          "height": 34
        },
        "outputId": "d32a044f-0d32-4705-d681-db32bbcd8a1d"
      },
      "source": [
        "x"
      ],
      "execution_count": 31,
      "outputs": [
        {
          "output_type": "execute_result",
          "data": {
            "text/plain": [
              "array([10,  9,  8,  7,  6,  5,  4,  3,  2])"
            ]
          },
          "metadata": {
            "tags": []
          },
          "execution_count": 31
        }
      ]
    },
    {
      "cell_type": "code",
      "metadata": {
        "id": "G9IhwH8sYmC8",
        "colab_type": "code",
        "colab": {
          "base_uri": "https://localhost:8080/",
          "height": 34
        },
        "outputId": "71a49642-90de-4466-ce8f-1a85b8b9f433"
      },
      "source": [
        "x[np.array([3, 3, 1, 8])]"
      ],
      "execution_count": 32,
      "outputs": [
        {
          "output_type": "execute_result",
          "data": {
            "text/plain": [
              "array([7, 7, 9, 2])"
            ]
          },
          "metadata": {
            "tags": []
          },
          "execution_count": 32
        }
      ]
    },
    {
      "cell_type": "code",
      "metadata": {
        "id": "IwivRVsFZQcH",
        "colab_type": "code",
        "colab": {}
      },
      "source": [
        ""
      ],
      "execution_count": 0,
      "outputs": []
    },
    {
      "cell_type": "markdown",
      "metadata": {
        "id": "Y73IfXUsZvhD",
        "colab_type": "text"
      },
      "source": [
        "The index array consisting of the values 3, 3, 1 and 8 correspondingly create an array of length 4 (same as the index array) where each index is replaced by the value the index array has in the array being indexed.\n",
        "\n",
        "Negative values are permitted and work as they do with single indices or slices:\n",
        "\n",
        ">>>\n",
        ">>> x[np.array([3,3,-3,8])]\n",
        "array([7, 7, 4, 2])\n",
        "It is an error to have index values out of bounds:\n",
        "\n",
        ">>>\n",
        ">>> x[np.array([3, 3, 20, 8])]\n",
        "<type 'exceptions.IndexError'>: index 20 out of bounds 0<=index<9\n",
        "Generally speaking, what is returned when index arrays are used is an array with the same shape as the index array, but with the type and values of the array being indexed. As an example, we can use a multidimensional index array instead:\n",
        "\n",
        ">>>\n",
        ">>> x[np.array([[1,1],[2,3]])]\n",
        "array([[9, 9],\n",
        "       [8, 7]])"
      ]
    },
    {
      "cell_type": "code",
      "metadata": {
        "id": "a7cH_beCZ7NL",
        "colab_type": "code",
        "colab": {}
      },
      "source": [
        " z = np.arange(81).reshape(3,3,3,3)"
      ],
      "execution_count": 0,
      "outputs": []
    },
    {
      "cell_type": "code",
      "metadata": {
        "id": "wJ-9Uzfgan14",
        "colab_type": "code",
        "colab": {
          "base_uri": "https://localhost:8080/",
          "height": 646
        },
        "outputId": "5ab18a2c-95f0-43c7-b49d-b809ef36eb58"
      },
      "source": [
        "z"
      ],
      "execution_count": 35,
      "outputs": [
        {
          "output_type": "execute_result",
          "data": {
            "text/plain": [
              "array([[[[ 0,  1,  2],\n",
              "         [ 3,  4,  5],\n",
              "         [ 6,  7,  8]],\n",
              "\n",
              "        [[ 9, 10, 11],\n",
              "         [12, 13, 14],\n",
              "         [15, 16, 17]],\n",
              "\n",
              "        [[18, 19, 20],\n",
              "         [21, 22, 23],\n",
              "         [24, 25, 26]]],\n",
              "\n",
              "\n",
              "       [[[27, 28, 29],\n",
              "         [30, 31, 32],\n",
              "         [33, 34, 35]],\n",
              "\n",
              "        [[36, 37, 38],\n",
              "         [39, 40, 41],\n",
              "         [42, 43, 44]],\n",
              "\n",
              "        [[45, 46, 47],\n",
              "         [48, 49, 50],\n",
              "         [51, 52, 53]]],\n",
              "\n",
              "\n",
              "       [[[54, 55, 56],\n",
              "         [57, 58, 59],\n",
              "         [60, 61, 62]],\n",
              "\n",
              "        [[63, 64, 65],\n",
              "         [66, 67, 68],\n",
              "         [69, 70, 71]],\n",
              "\n",
              "        [[72, 73, 74],\n",
              "         [75, 76, 77],\n",
              "         [78, 79, 80]]]])"
            ]
          },
          "metadata": {
            "tags": []
          },
          "execution_count": 35
        }
      ]
    },
    {
      "cell_type": "code",
      "metadata": {
        "id": "wLEiECDRaqsV",
        "colab_type": "code",
        "colab": {
          "base_uri": "https://localhost:8080/",
          "height": 68
        },
        "outputId": "668fecce-37ee-4300-9077-83dde340e038"
      },
      "source": [
        " z[1,...,2]"
      ],
      "execution_count": 36,
      "outputs": [
        {
          "output_type": "execute_result",
          "data": {
            "text/plain": [
              "array([[29, 32, 35],\n",
              "       [38, 41, 44],\n",
              "       [47, 50, 53]])"
            ]
          },
          "metadata": {
            "tags": []
          },
          "execution_count": 36
        }
      ]
    },
    {
      "cell_type": "code",
      "metadata": {
        "id": "rQTZaiE7a3by",
        "colab_type": "code",
        "colab": {
          "base_uri": "https://localhost:8080/",
          "height": 68
        },
        "outputId": "efeb2ef1-c758-46ca-a066-ce8eb7f55564"
      },
      "source": [
        "z[1,:,:,2]"
      ],
      "execution_count": 37,
      "outputs": [
        {
          "output_type": "execute_result",
          "data": {
            "text/plain": [
              "array([[29, 32, 35],\n",
              "       [38, 41, 44],\n",
              "       [47, 50, 53]])"
            ]
          },
          "metadata": {
            "tags": []
          },
          "execution_count": 37
        }
      ]
    },
    {
      "cell_type": "code",
      "metadata": {
        "id": "9SSbUZFqbnQt",
        "colab_type": "code",
        "colab": {}
      },
      "source": [
        "indices = (1,1,1,1)"
      ],
      "execution_count": 0,
      "outputs": []
    },
    {
      "cell_type": "code",
      "metadata": {
        "id": "4kwiqqxHbz41",
        "colab_type": "code",
        "colab": {
          "base_uri": "https://localhost:8080/",
          "height": 34
        },
        "outputId": "592f0ca5-6ee0-45ca-ed86-51d64d8c6183"
      },
      "source": [
        "z[indices]"
      ],
      "execution_count": 39,
      "outputs": [
        {
          "output_type": "execute_result",
          "data": {
            "text/plain": [
              "40"
            ]
          },
          "metadata": {
            "tags": []
          },
          "execution_count": 39
        }
      ]
    },
    {
      "cell_type": "code",
      "metadata": {
        "id": "LYu7J8XIb5Te",
        "colab_type": "code",
        "colab": {}
      },
      "source": [
        "indices = (1,1,1,slice(0,2)) # same as [1,1,1,0:2]"
      ],
      "execution_count": 0,
      "outputs": []
    },
    {
      "cell_type": "code",
      "metadata": {
        "id": "itkwU5Utce8m",
        "colab_type": "code",
        "colab": {
          "base_uri": "https://localhost:8080/",
          "height": 34
        },
        "outputId": "c9885bfb-b413-42fe-8ac9-1732a9ca9608"
      },
      "source": [
        "z[indices]"
      ],
      "execution_count": 41,
      "outputs": [
        {
          "output_type": "execute_result",
          "data": {
            "text/plain": [
              "array([39, 40])"
            ]
          },
          "metadata": {
            "tags": []
          },
          "execution_count": 41
        }
      ]
    },
    {
      "cell_type": "code",
      "metadata": {
        "id": "tav4FfIUchCy",
        "colab_type": "code",
        "colab": {}
      },
      "source": [
        "indices = (1, Ellipsis, 1) # same as [1,...,1]"
      ],
      "execution_count": 0,
      "outputs": []
    },
    {
      "cell_type": "code",
      "metadata": {
        "id": "HVy9H9Xhcnar",
        "colab_type": "code",
        "colab": {
          "base_uri": "https://localhost:8080/",
          "height": 68
        },
        "outputId": "aac5657c-25e2-4580-870e-69e3ac0dd145"
      },
      "source": [
        "z[indices]"
      ],
      "execution_count": 43,
      "outputs": [
        {
          "output_type": "execute_result",
          "data": {
            "text/plain": [
              "array([[28, 31, 34],\n",
              "       [37, 40, 43],\n",
              "       [46, 49, 52]])"
            ]
          },
          "metadata": {
            "tags": []
          },
          "execution_count": 43
        }
      ]
    },
    {
      "cell_type": "code",
      "metadata": {
        "id": "vafoIeIdcov9",
        "colab_type": "code",
        "colab": {}
      },
      "source": [
        ""
      ],
      "execution_count": 0,
      "outputs": []
    }
  ]
}