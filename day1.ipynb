{
  "nbformat": 4,
  "nbformat_minor": 0,
  "metadata": {
    "colab": {
      "name": "Untitled",
      "version": "0.3.2",
      "provenance": [],
      "collapsed_sections": [],
      "include_colab_link": true
    },
    "kernelspec": {
      "name": "python3",
      "display_name": "Python 3"
    }
  },
  "cells": [
    {
      "cell_type": "markdown",
      "metadata": {
        "id": "view-in-github",
        "colab_type": "text"
      },
      "source": [
        "<a href=\"https://colab.research.google.com/github/nidjaj/machine-learning-/blob/master/Untitled.ipynb\" target=\"_parent\"><img src=\"https://colab.research.google.com/assets/colab-badge.svg\" alt=\"Open In Colab\"/></a>"
      ]
    },
    {
      "cell_type": "code",
      "metadata": {
        "id": "IR6PbmZmB1-W",
        "colab_type": "code",
        "colab": {}
      },
      "source": [
        "import numpy"
      ],
      "execution_count": 0,
      "outputs": []
    },
    {
      "cell_type": "code",
      "metadata": {
        "id": "mVgD9XL4B6Cf",
        "colab_type": "code",
        "colab": {}
      },
      "source": [
        "import numpy as np\n"
      ],
      "execution_count": 0,
      "outputs": []
    },
    {
      "cell_type": "code",
      "metadata": {
        "id": "FVR9W5FWCn64",
        "colab_type": "code",
        "colab": {}
      },
      "source": [
        "a=np.array([2,7,1,99,6.4])\n"
      ],
      "execution_count": 0,
      "outputs": []
    },
    {
      "cell_type": "code",
      "metadata": {
        "id": "3CEVOCW3C9VF",
        "colab_type": "code",
        "outputId": "8b2a592f-7b4e-4312-c238-13fc31a14f44",
        "colab": {
          "base_uri": "https://localhost:8080/",
          "height": 34
        }
      },
      "source": [
        "type(a)\n"
      ],
      "execution_count": 0,
      "outputs": [
        {
          "output_type": "execute_result",
          "data": {
            "text/plain": [
              "numpy.ndarray"
            ]
          },
          "metadata": {
            "tags": []
          },
          "execution_count": 4
        }
      ]
    },
    {
      "cell_type": "code",
      "metadata": {
        "id": "teWXft9jDIEn",
        "colab_type": "code",
        "colab": {}
      },
      "source": [
        "b=np.array([2,47,23,13,56])"
      ],
      "execution_count": 0,
      "outputs": []
    },
    {
      "cell_type": "code",
      "metadata": {
        "id": "tw6aoiRJDTCd",
        "colab_type": "code",
        "outputId": "b7bb7fb9-fe0b-4f35-c63e-cf916550a704",
        "colab": {
          "base_uri": "https://localhost:8080/",
          "height": 34
        }
      },
      "source": [
        "a"
      ],
      "execution_count": 0,
      "outputs": [
        {
          "output_type": "execute_result",
          "data": {
            "text/plain": [
              "array([ 2. ,  7. ,  1. , 99. ,  6.4])"
            ]
          },
          "metadata": {
            "tags": []
          },
          "execution_count": 6
        }
      ]
    },
    {
      "cell_type": "code",
      "metadata": {
        "id": "zCpT19VLDUsI",
        "colab_type": "code",
        "outputId": "e62b25ee-3db4-41dc-ded1-61723fa7d12c",
        "colab": {
          "base_uri": "https://localhost:8080/",
          "height": 34
        }
      },
      "source": [
        "b"
      ],
      "execution_count": 0,
      "outputs": [
        {
          "output_type": "execute_result",
          "data": {
            "text/plain": [
              "array([ 2, 47, 23, 13, 56])"
            ]
          },
          "metadata": {
            "tags": []
          },
          "execution_count": 7
        }
      ]
    },
    {
      "cell_type": "code",
      "metadata": {
        "id": "PIICjNRvDVcP",
        "colab_type": "code",
        "outputId": "3908a432-95cf-47d1-d06c-ae3ea8ea9242",
        "colab": {
          "base_uri": "https://localhost:8080/",
          "height": 34
        }
      },
      "source": [
        "a[0]\n"
      ],
      "execution_count": 0,
      "outputs": [
        {
          "output_type": "execute_result",
          "data": {
            "text/plain": [
              "2.0"
            ]
          },
          "metadata": {
            "tags": []
          },
          "execution_count": 8
        }
      ]
    },
    {
      "cell_type": "code",
      "metadata": {
        "id": "AXAlT-y_DcVN",
        "colab_type": "code",
        "outputId": "bc61f123-c287-440c-bd86-cf458a50f505",
        "colab": {
          "base_uri": "https://localhost:8080/",
          "height": 34
        }
      },
      "source": [
        "b[0]"
      ],
      "execution_count": 0,
      "outputs": [
        {
          "output_type": "execute_result",
          "data": {
            "text/plain": [
              "2"
            ]
          },
          "metadata": {
            "tags": []
          },
          "execution_count": 9
        }
      ]
    },
    {
      "cell_type": "code",
      "metadata": {
        "id": "UULULSS0Dd7P",
        "colab_type": "code",
        "outputId": "6b506ec8-c1a7-4203-f502-c2072e7cafb2",
        "colab": {
          "base_uri": "https://localhost:8080/",
          "height": 34
        }
      },
      "source": [
        "a+b"
      ],
      "execution_count": 0,
      "outputs": [
        {
          "output_type": "execute_result",
          "data": {
            "text/plain": [
              "array([  4. ,  54. ,  24. , 112. ,  62.4])"
            ]
          },
          "metadata": {
            "tags": []
          },
          "execution_count": 10
        }
      ]
    },
    {
      "cell_type": "code",
      "metadata": {
        "id": "NAfe8Pd_Dqli",
        "colab_type": "code",
        "outputId": "7548a6db-ed21-4d7e-9da5-a8b0ca522b66",
        "colab": {
          "base_uri": "https://localhost:8080/",
          "height": 34
        }
      },
      "source": [
        "a+2"
      ],
      "execution_count": 0,
      "outputs": [
        {
          "output_type": "execute_result",
          "data": {
            "text/plain": [
              "array([  4. ,   9. ,   3. , 101. ,   8.4])"
            ]
          },
          "metadata": {
            "tags": []
          },
          "execution_count": 11
        }
      ]
    },
    {
      "cell_type": "code",
      "metadata": {
        "id": "ib2KaXKMDwml",
        "colab_type": "code",
        "outputId": "2eae766a-c7d0-4b43-d428-21f437a76a1c",
        "colab": {
          "base_uri": "https://localhost:8080/",
          "height": 34
        }
      },
      "source": [
        "a*2"
      ],
      "execution_count": 0,
      "outputs": [
        {
          "output_type": "execute_result",
          "data": {
            "text/plain": [
              "array([  4. ,  14. ,   2. , 198. ,  12.8])"
            ]
          },
          "metadata": {
            "tags": []
          },
          "execution_count": 12
        }
      ]
    },
    {
      "cell_type": "code",
      "metadata": {
        "id": "Hj5cCgJHD1HN",
        "colab_type": "code",
        "outputId": "2f1c67a1-22a0-4427-95bd-bb819d00ad02",
        "colab": {
          "base_uri": "https://localhost:8080/",
          "height": 34
        }
      },
      "source": [
        "a**2"
      ],
      "execution_count": 0,
      "outputs": [
        {
          "output_type": "execute_result",
          "data": {
            "text/plain": [
              "array([4.000e+00, 4.900e+01, 1.000e+00, 9.801e+03, 4.096e+01])"
            ]
          },
          "metadata": {
            "tags": []
          },
          "execution_count": 13
        }
      ]
    },
    {
      "cell_type": "code",
      "metadata": {
        "id": "WtAUfLL9D7t5",
        "colab_type": "code",
        "colab": {}
      },
      "source": [
        "x=np.array([[2,5,8],[3,6,1]])"
      ],
      "execution_count": 0,
      "outputs": []
    },
    {
      "cell_type": "code",
      "metadata": {
        "id": "n6fbYSEdF20W",
        "colab_type": "code",
        "outputId": "f87cea06-1a71-4cfa-be36-75de28fd15e0",
        "colab": {
          "base_uri": "https://localhost:8080/",
          "height": 50
        }
      },
      "source": [
        "x"
      ],
      "execution_count": 0,
      "outputs": [
        {
          "output_type": "execute_result",
          "data": {
            "text/plain": [
              "array([[2, 5, 8],\n",
              "       [3, 6, 1]])"
            ]
          },
          "metadata": {
            "tags": []
          },
          "execution_count": 15
        }
      ]
    },
    {
      "cell_type": "code",
      "metadata": {
        "id": "9-yv09C0F4L8",
        "colab_type": "code",
        "outputId": "41f433f9-5d42-4e83-90f4-b3361b9dd731",
        "colab": {
          "base_uri": "https://localhost:8080/",
          "height": 34
        }
      },
      "source": [
        "x[0,0]"
      ],
      "execution_count": 0,
      "outputs": [
        {
          "output_type": "execute_result",
          "data": {
            "text/plain": [
              "2"
            ]
          },
          "metadata": {
            "tags": []
          },
          "execution_count": 16
        }
      ]
    },
    {
      "cell_type": "code",
      "metadata": {
        "id": "bPMMgh7-GXN0",
        "colab_type": "code",
        "outputId": "53c239d5-cfe1-40e1-ddc5-fdc825d7ca3b",
        "colab": {
          "base_uri": "https://localhost:8080/",
          "height": 34
        }
      },
      "source": [
        "x[0]"
      ],
      "execution_count": 0,
      "outputs": [
        {
          "output_type": "execute_result",
          "data": {
            "text/plain": [
              "array([2, 5, 8])"
            ]
          },
          "metadata": {
            "tags": []
          },
          "execution_count": 17
        }
      ]
    },
    {
      "cell_type": "code",
      "metadata": {
        "id": "f1mVJEHiGZ5M",
        "colab_type": "code",
        "outputId": "50a5cc19-5858-480c-e7d8-cc74f3ea1143",
        "colab": {
          "base_uri": "https://localhost:8080/",
          "height": 34
        }
      },
      "source": [
        "x[0][0]"
      ],
      "execution_count": 0,
      "outputs": [
        {
          "output_type": "execute_result",
          "data": {
            "text/plain": [
              "2"
            ]
          },
          "metadata": {
            "tags": []
          },
          "execution_count": 18
        }
      ]
    },
    {
      "cell_type": "code",
      "metadata": {
        "id": "zz_cRC29Gglg",
        "colab_type": "code",
        "outputId": "44271635-a3db-477f-b297-f402171ffcce",
        "colab": {
          "base_uri": "https://localhost:8080/",
          "height": 50
        }
      },
      "source": [
        "x+7"
      ],
      "execution_count": 0,
      "outputs": [
        {
          "output_type": "execute_result",
          "data": {
            "text/plain": [
              "array([[ 9, 12, 15],\n",
              "       [10, 13,  8]])"
            ]
          },
          "metadata": {
            "tags": []
          },
          "execution_count": 19
        }
      ]
    },
    {
      "cell_type": "code",
      "metadata": {
        "id": "sOtdYgvdG2GB",
        "colab_type": "code",
        "colab": {}
      },
      "source": [
        "y=x+7"
      ],
      "execution_count": 0,
      "outputs": []
    },
    {
      "cell_type": "code",
      "metadata": {
        "id": "oXkABQWQG9wd",
        "colab_type": "code",
        "outputId": "90d95a98-e756-4a14-f798-976ddc4c0ce5",
        "colab": {
          "base_uri": "https://localhost:8080/",
          "height": 50
        }
      },
      "source": [
        "y"
      ],
      "execution_count": 0,
      "outputs": [
        {
          "output_type": "execute_result",
          "data": {
            "text/plain": [
              "array([[ 9, 12, 15],\n",
              "       [10, 13,  8]])"
            ]
          },
          "metadata": {
            "tags": []
          },
          "execution_count": 21
        }
      ]
    },
    {
      "cell_type": "code",
      "metadata": {
        "id": "MzXGMyGjG_ni",
        "colab_type": "code",
        "outputId": "b5816bcf-6a4b-4edf-ec01-628c0ee6df98",
        "colab": {
          "base_uri": "https://localhost:8080/",
          "height": 50
        }
      },
      "source": [
        "x*2"
      ],
      "execution_count": 0,
      "outputs": [
        {
          "output_type": "execute_result",
          "data": {
            "text/plain": [
              "array([[ 4, 10, 16],\n",
              "       [ 6, 12,  2]])"
            ]
          },
          "metadata": {
            "tags": []
          },
          "execution_count": 22
        }
      ]
    },
    {
      "cell_type": "code",
      "metadata": {
        "id": "K0UJdFMhHHAM",
        "colab_type": "code",
        "outputId": "7ed45557-b631-4b9b-e015-91c98fb45251",
        "colab": {
          "base_uri": "https://localhost:8080/",
          "height": 50
        }
      },
      "source": [
        "x**3"
      ],
      "execution_count": 0,
      "outputs": [
        {
          "output_type": "execute_result",
          "data": {
            "text/plain": [
              "array([[  8, 125, 512],\n",
              "       [ 27, 216,   1]])"
            ]
          },
          "metadata": {
            "tags": []
          },
          "execution_count": 23
        }
      ]
    },
    {
      "cell_type": "code",
      "metadata": {
        "id": "aeX1GBEIHJns",
        "colab_type": "code",
        "colab": {}
      },
      "source": [
        "z=np.array([ [1,4],[3,8],[2,9],[9,4]])"
      ],
      "execution_count": 0,
      "outputs": []
    },
    {
      "cell_type": "code",
      "metadata": {
        "id": "eUdVmcdTHpXh",
        "colab_type": "code",
        "outputId": "26f8844c-bbc7-4912-97ce-8b10e52d60d2",
        "colab": {
          "base_uri": "https://localhost:8080/",
          "height": 84
        }
      },
      "source": [
        "z"
      ],
      "execution_count": 0,
      "outputs": [
        {
          "output_type": "execute_result",
          "data": {
            "text/plain": [
              "array([[1, 4],\n",
              "       [3, 8],\n",
              "       [2, 9],\n",
              "       [9, 4]])"
            ]
          },
          "metadata": {
            "tags": []
          },
          "execution_count": 25
        }
      ]
    },
    {
      "cell_type": "code",
      "metadata": {
        "id": "qPOqF2PwHqfr",
        "colab_type": "code",
        "outputId": "a14abd99-c792-4f5c-f5a3-1d310ee7a2c5",
        "colab": {
          "base_uri": "https://localhost:8080/",
          "height": 50
        }
      },
      "source": [
        "x"
      ],
      "execution_count": 0,
      "outputs": [
        {
          "output_type": "execute_result",
          "data": {
            "text/plain": [
              "array([[2, 5, 8],\n",
              "       [3, 6, 1]])"
            ]
          },
          "metadata": {
            "tags": []
          },
          "execution_count": 26
        }
      ]
    },
    {
      "cell_type": "code",
      "metadata": {
        "id": "NvfEYkdXHsUZ",
        "colab_type": "code",
        "outputId": "f1458ce3-86d5-4b82-d7c1-b61e9c25ab7e",
        "colab": {
          "base_uri": "https://localhost:8080/",
          "height": 34
        }
      },
      "source": [
        "x.shape\n"
      ],
      "execution_count": 0,
      "outputs": [
        {
          "output_type": "execute_result",
          "data": {
            "text/plain": [
              "(2, 3)"
            ]
          },
          "metadata": {
            "tags": []
          },
          "execution_count": 27
        }
      ]
    },
    {
      "cell_type": "code",
      "metadata": {
        "id": "f1FN65oiHv_z",
        "colab_type": "code",
        "outputId": "fdce5216-4c45-4b87-889e-60017ef96106",
        "colab": {
          "base_uri": "https://localhost:8080/",
          "height": 34
        }
      },
      "source": [
        "z.shape"
      ],
      "execution_count": 0,
      "outputs": [
        {
          "output_type": "execute_result",
          "data": {
            "text/plain": [
              "(4, 2)"
            ]
          },
          "metadata": {
            "tags": []
          },
          "execution_count": 28
        }
      ]
    },
    {
      "cell_type": "code",
      "metadata": {
        "id": "d-N0nCCNHxtO",
        "colab_type": "code",
        "outputId": "23c52a55-384f-4d97-febb-29db9042f44d",
        "colab": {
          "base_uri": "https://localhost:8080/",
          "height": 50
        }
      },
      "source": [
        "x\n"
      ],
      "execution_count": 0,
      "outputs": [
        {
          "output_type": "execute_result",
          "data": {
            "text/plain": [
              "array([[2, 5, 8],\n",
              "       [3, 6, 1]])"
            ]
          },
          "metadata": {
            "tags": []
          },
          "execution_count": 29
        }
      ]
    },
    {
      "cell_type": "code",
      "metadata": {
        "id": "RB6l-pEcH_pd",
        "colab_type": "code",
        "outputId": "e56bee6e-7739-41ef-9774-4f212860f2d1",
        "colab": {
          "base_uri": "https://localhost:8080/",
          "height": 34
        }
      },
      "source": [
        "x[0]"
      ],
      "execution_count": 0,
      "outputs": [
        {
          "output_type": "execute_result",
          "data": {
            "text/plain": [
              "array([2, 5, 8])"
            ]
          },
          "metadata": {
            "tags": []
          },
          "execution_count": 30
        }
      ]
    },
    {
      "cell_type": "code",
      "metadata": {
        "id": "yfDP-ST_IEXB",
        "colab_type": "code",
        "outputId": "3b6e4d5c-e127-4ce9-a30e-7b1bf9cb5ffa",
        "colab": {
          "base_uri": "https://localhost:8080/",
          "height": 84
        }
      },
      "source": [
        "z"
      ],
      "execution_count": 0,
      "outputs": [
        {
          "output_type": "execute_result",
          "data": {
            "text/plain": [
              "array([[1, 4],\n",
              "       [3, 8],\n",
              "       [2, 9],\n",
              "       [9, 4]])"
            ]
          },
          "metadata": {
            "tags": []
          },
          "execution_count": 31
        }
      ]
    },
    {
      "cell_type": "code",
      "metadata": {
        "id": "LxsElEz5IF2f",
        "colab_type": "code",
        "outputId": "baf0c623-5fc1-4200-c751-0beccb8833a3",
        "colab": {
          "base_uri": "https://localhost:8080/",
          "height": 50
        }
      },
      "source": [
        "z[0:2]\n"
      ],
      "execution_count": 0,
      "outputs": [
        {
          "output_type": "execute_result",
          "data": {
            "text/plain": [
              "array([[1, 4],\n",
              "       [3, 8]])"
            ]
          },
          "metadata": {
            "tags": []
          },
          "execution_count": 32
        }
      ]
    },
    {
      "cell_type": "code",
      "metadata": {
        "id": "f298PNV9IJhf",
        "colab_type": "code",
        "outputId": "91b4f635-6ca7-46c8-b7fb-82a24d4f84c3",
        "colab": {
          "base_uri": "https://localhost:8080/",
          "height": 84
        }
      },
      "source": [
        "z[0:]"
      ],
      "execution_count": 0,
      "outputs": [
        {
          "output_type": "execute_result",
          "data": {
            "text/plain": [
              "array([[1, 4],\n",
              "       [3, 8],\n",
              "       [2, 9],\n",
              "       [9, 4]])"
            ]
          },
          "metadata": {
            "tags": []
          },
          "execution_count": 33
        }
      ]
    },
    {
      "cell_type": "code",
      "metadata": {
        "id": "v6o7p4mpIXeu",
        "colab_type": "code",
        "outputId": "d7f038b0-c15b-48d1-ffb7-496885dd31db",
        "colab": {
          "base_uri": "https://localhost:8080/",
          "height": 34
        }
      },
      "source": [
        "z[0: ,0]"
      ],
      "execution_count": 0,
      "outputs": [
        {
          "output_type": "execute_result",
          "data": {
            "text/plain": [
              "array([1, 3, 2, 9])"
            ]
          },
          "metadata": {
            "tags": []
          },
          "execution_count": 34
        }
      ]
    },
    {
      "cell_type": "code",
      "metadata": {
        "id": "h5VqxiP0It36",
        "colab_type": "code",
        "outputId": "091b5b6d-a349-4b17-e011-a949948c34eb",
        "colab": {
          "base_uri": "https://localhost:8080/",
          "height": 34
        }
      },
      "source": [
        "z[0:,1]"
      ],
      "execution_count": 0,
      "outputs": [
        {
          "output_type": "execute_result",
          "data": {
            "text/plain": [
              "array([4, 8, 9, 4])"
            ]
          },
          "metadata": {
            "tags": []
          },
          "execution_count": 35
        }
      ]
    },
    {
      "cell_type": "code",
      "metadata": {
        "id": "GfDf4AviIxWw",
        "colab_type": "code",
        "outputId": "71ae4a02-6e0f-44b6-d6fe-8402da196572",
        "colab": {
          "base_uri": "https://localhost:8080/",
          "height": 34
        }
      },
      "source": [
        "z[0:2,0]"
      ],
      "execution_count": 0,
      "outputs": [
        {
          "output_type": "execute_result",
          "data": {
            "text/plain": [
              "array([1, 3])"
            ]
          },
          "metadata": {
            "tags": []
          },
          "execution_count": 36
        }
      ]
    },
    {
      "cell_type": "code",
      "metadata": {
        "id": "nac8hy1FJIvT",
        "colab_type": "code",
        "outputId": "a727ce80-ed98-4ef0-88fc-faddeab94875",
        "colab": {
          "base_uri": "https://localhost:8080/",
          "height": 34
        }
      },
      "source": [
        "x[0:,1]"
      ],
      "execution_count": 0,
      "outputs": [
        {
          "output_type": "execute_result",
          "data": {
            "text/plain": [
              "array([5, 6])"
            ]
          },
          "metadata": {
            "tags": []
          },
          "execution_count": 37
        }
      ]
    },
    {
      "cell_type": "code",
      "metadata": {
        "id": "JqzbmR2lJQPV",
        "colab_type": "code",
        "outputId": "8961a5a0-fa6f-492c-d99f-ac0dc24186f9",
        "colab": {
          "base_uri": "https://localhost:8080/",
          "height": 50
        }
      },
      "source": [
        "x[0:,0:2]"
      ],
      "execution_count": 0,
      "outputs": [
        {
          "output_type": "execute_result",
          "data": {
            "text/plain": [
              "array([[2, 5],\n",
              "       [3, 6]])"
            ]
          },
          "metadata": {
            "tags": []
          },
          "execution_count": 38
        }
      ]
    },
    {
      "cell_type": "code",
      "metadata": {
        "id": "e4KoAPdMJU72",
        "colab_type": "code",
        "outputId": "a9998b9b-13df-4c92-dbad-e9ea39154f8f",
        "colab": {
          "base_uri": "https://localhost:8080/",
          "height": 50
        }
      },
      "source": [
        "x[0:,[0,2]]"
      ],
      "execution_count": 0,
      "outputs": [
        {
          "output_type": "execute_result",
          "data": {
            "text/plain": [
              "array([[2, 8],\n",
              "       [3, 1]])"
            ]
          },
          "metadata": {
            "tags": []
          },
          "execution_count": 39
        }
      ]
    },
    {
      "cell_type": "code",
      "metadata": {
        "id": "r_mcXB7vJmp5",
        "colab_type": "code",
        "outputId": "dabd1c9e-90cb-4bd0-c8cb-989279123949",
        "colab": {
          "base_uri": "https://localhost:8080/",
          "height": 50
        }
      },
      "source": [
        "z[[0,2]]"
      ],
      "execution_count": 0,
      "outputs": [
        {
          "output_type": "execute_result",
          "data": {
            "text/plain": [
              "array([[1, 4],\n",
              "       [2, 9]])"
            ]
          },
          "metadata": {
            "tags": []
          },
          "execution_count": 40
        }
      ]
    },
    {
      "cell_type": "code",
      "metadata": {
        "id": "diYKVoxAK4ZB",
        "colab_type": "code",
        "outputId": "67b6ac5d-0453-455b-b3f6-198b6ac21b5f",
        "colab": {
          "base_uri": "https://localhost:8080/",
          "height": 34
        }
      },
      "source": [
        "z[[0,3],1]"
      ],
      "execution_count": 0,
      "outputs": [
        {
          "output_type": "execute_result",
          "data": {
            "text/plain": [
              "array([4, 4])"
            ]
          },
          "metadata": {
            "tags": []
          },
          "execution_count": 42
        }
      ]
    },
    {
      "cell_type": "code",
      "metadata": {
        "id": "HfXi4qEpkrwf",
        "colab_type": "code",
        "colab": {}
      },
      "source": [
        "import numpy as np\n"
      ],
      "execution_count": 0,
      "outputs": []
    },
    {
      "cell_type": "code",
      "metadata": {
        "id": "_kFAkFwmk0eV",
        "colab_type": "code",
        "colab": {}
      },
      "source": [
        "p=np.zeros((3,6))"
      ],
      "execution_count": 0,
      "outputs": []
    },
    {
      "cell_type": "code",
      "metadata": {
        "id": "gEGH8e9jk6Ig",
        "colab_type": "code",
        "outputId": "801e170c-1a46-463d-a287-1418a2f0f8f8",
        "colab": {
          "base_uri": "https://localhost:8080/",
          "height": 67
        }
      },
      "source": [
        "p"
      ],
      "execution_count": 0,
      "outputs": [
        {
          "output_type": "execute_result",
          "data": {
            "text/plain": [
              "array([[0., 0., 0., 0., 0., 0.],\n",
              "       [0., 0., 0., 0., 0., 0.],\n",
              "       [0., 0., 0., 0., 0., 0.]])"
            ]
          },
          "metadata": {
            "tags": []
          },
          "execution_count": 4
        }
      ]
    },
    {
      "cell_type": "code",
      "metadata": {
        "id": "xzmiNDBik7Mh",
        "colab_type": "code",
        "outputId": "19d21e05-ff91-46b5-c65c-6d08b8774466",
        "colab": {
          "base_uri": "https://localhost:8080/",
          "height": 84
        }
      },
      "source": [
        "np.full((4,5),9)"
      ],
      "execution_count": 0,
      "outputs": [
        {
          "output_type": "execute_result",
          "data": {
            "text/plain": [
              "array([[9, 9, 9, 9, 9],\n",
              "       [9, 9, 9, 9, 9],\n",
              "       [9, 9, 9, 9, 9],\n",
              "       [9, 9, 9, 9, 9]])"
            ]
          },
          "metadata": {
            "tags": []
          },
          "execution_count": 5
        }
      ]
    },
    {
      "cell_type": "code",
      "metadata": {
        "id": "dbWuUc5wmcWE",
        "colab_type": "code",
        "outputId": "7c2ce780-4ca9-41e7-9b4f-0efafa05480b",
        "colab": {
          "base_uri": "https://localhost:8080/",
          "height": 118
        }
      },
      "source": [
        "[i for i in dir(np) if 'zer' in i ]"
      ],
      "execution_count": 0,
      "outputs": [
        {
          "output_type": "execute_result",
          "data": {
            "text/plain": [
              "['count_nonzero',\n",
              " 'flatnonzero',\n",
              " 'nonzero',\n",
              " 'trim_zeros',\n",
              " 'zeros',\n",
              " 'zeros_like']"
            ]
          },
          "metadata": {
            "tags": []
          },
          "execution_count": 6
        }
      ]
    },
    {
      "cell_type": "code",
      "metadata": {
        "id": "mHRugSqfmoI9",
        "colab_type": "code",
        "colab": {}
      },
      "source": [
        "a=np.array([[1,9,7],[3,2,8],[4,5,6],[2,9,0]])"
      ],
      "execution_count": 0,
      "outputs": []
    },
    {
      "cell_type": "code",
      "metadata": {
        "id": "litz3Fp0nFF7",
        "colab_type": "code",
        "outputId": "697ed8c6-a4c7-48a6-f11f-6ddc7c5c4b7a",
        "colab": {
          "base_uri": "https://localhost:8080/",
          "height": 84
        }
      },
      "source": [
        "a"
      ],
      "execution_count": 0,
      "outputs": [
        {
          "output_type": "execute_result",
          "data": {
            "text/plain": [
              "array([[1, 9, 7],\n",
              "       [3, 2, 8],\n",
              "       [4, 5, 6],\n",
              "       [2, 9, 0]])"
            ]
          },
          "metadata": {
            "tags": []
          },
          "execution_count": 8
        }
      ]
    },
    {
      "cell_type": "code",
      "metadata": {
        "id": "471LCOH-nJfx",
        "colab_type": "code",
        "outputId": "cc5e9b33-06b0-4fa3-c0cd-6def2a0c1bc8",
        "colab": {
          "base_uri": "https://localhost:8080/",
          "height": 34
        }
      },
      "source": [
        "a[0: ,2]"
      ],
      "execution_count": 0,
      "outputs": [
        {
          "output_type": "execute_result",
          "data": {
            "text/plain": [
              "array([7, 8, 6, 0])"
            ]
          },
          "metadata": {
            "tags": []
          },
          "execution_count": 10
        }
      ]
    },
    {
      "cell_type": "code",
      "metadata": {
        "id": "iZeSfIrsnZ0b",
        "colab_type": "code",
        "outputId": "9a75c38b-7421-4ac4-dbc3-ddd458ec9b0c",
        "colab": {
          "base_uri": "https://localhost:8080/",
          "height": 34
        }
      },
      "source": [
        "a[1: ,2]"
      ],
      "execution_count": 0,
      "outputs": [
        {
          "output_type": "execute_result",
          "data": {
            "text/plain": [
              "array([8, 6, 0])"
            ]
          },
          "metadata": {
            "tags": []
          },
          "execution_count": 13
        }
      ]
    },
    {
      "cell_type": "code",
      "metadata": {
        "id": "4GQoemrvnrHp",
        "colab_type": "code",
        "outputId": "37f5de3c-9724-446c-c26a-36ef70d28796",
        "colab": {
          "base_uri": "https://localhost:8080/",
          "height": 67
        }
      },
      "source": [
        "a[1: ,[0,2]]"
      ],
      "execution_count": 0,
      "outputs": [
        {
          "output_type": "execute_result",
          "data": {
            "text/plain": [
              "array([[3, 8],\n",
              "       [4, 6],\n",
              "       [2, 0]])"
            ]
          },
          "metadata": {
            "tags": []
          },
          "execution_count": 15
        }
      ]
    },
    {
      "cell_type": "code",
      "metadata": {
        "id": "jgvZFlVloDVi",
        "colab_type": "code",
        "outputId": "5cd99f61-0462-4a37-e2b7-93d0cd3172bd",
        "colab": {
          "base_uri": "https://localhost:8080/",
          "height": 84
        }
      },
      "source": [
        "a"
      ],
      "execution_count": 0,
      "outputs": [
        {
          "output_type": "execute_result",
          "data": {
            "text/plain": [
              "array([[1, 9, 7],\n",
              "       [3, 2, 8],\n",
              "       [4, 5, 6],\n",
              "       [2, 9, 0]])"
            ]
          },
          "metadata": {
            "tags": []
          },
          "execution_count": 18
        }
      ]
    },
    {
      "cell_type": "code",
      "metadata": {
        "id": "_IU9aD2AoHf3",
        "colab_type": "code",
        "outputId": "ac5bfa26-af32-489c-fed4-9d1dd4b41abe",
        "colab": {
          "base_uri": "https://localhost:8080/",
          "height": 34
        }
      },
      "source": [
        "a.shape"
      ],
      "execution_count": 0,
      "outputs": [
        {
          "output_type": "execute_result",
          "data": {
            "text/plain": [
              "(4, 3)"
            ]
          },
          "metadata": {
            "tags": []
          },
          "execution_count": 19
        }
      ]
    },
    {
      "cell_type": "code",
      "metadata": {
        "id": "21T8afV4oNm8",
        "colab_type": "code",
        "outputId": "1c8d2038-c519-4a98-ab73-2cb9dd001e14",
        "colab": {
          "base_uri": "https://localhost:8080/",
          "height": 67
        }
      },
      "source": [
        "a.reshape(3,4)"
      ],
      "execution_count": 0,
      "outputs": [
        {
          "output_type": "execute_result",
          "data": {
            "text/plain": [
              "array([[1, 9, 7, 3],\n",
              "       [2, 8, 4, 5],\n",
              "       [6, 2, 9, 0]])"
            ]
          },
          "metadata": {
            "tags": []
          },
          "execution_count": 20
        }
      ]
    },
    {
      "cell_type": "code",
      "metadata": {
        "id": "r-tXE5AroRQP",
        "colab_type": "code",
        "colab": {}
      },
      "source": [
        "import matplotlib"
      ],
      "execution_count": 0,
      "outputs": []
    },
    {
      "cell_type": "code",
      "metadata": {
        "id": "b87wmxpuoZrL",
        "colab_type": "code",
        "colab": {}
      },
      "source": [
        "import matplotlib.pyplot as plt"
      ],
      "execution_count": 0,
      "outputs": []
    },
    {
      "cell_type": "code",
      "metadata": {
        "id": "leSh4q4Uooi2",
        "colab_type": "code",
        "outputId": "32fc237c-903d-49e2-8469-8965ffee10e1",
        "colab": {
          "base_uri": "https://localhost:8080/",
          "height": 283
        }
      },
      "source": [
        "x=[2,3]\n",
        "y=[9,5]\n",
        "x1=[2,9,6]\n",
        "y1=[4,5,7]\n",
        "plt.xlabel(\"time\")\n",
        "plt.ylabel(\"speed\")\n",
        "plt.plot(x,y,label=\"water\") #this will draw a straight line\n",
        "plt.plot(x1,y1,label=\"sand\") #this will draw a straight line\n",
        "plt.grid(color='green')\n",
        "plt.show(x,y)"
      ],
      "execution_count": 0,
      "outputs": [
        {
          "output_type": "display_data",
          "data": {
            "image/png": "[encoded data removed]",
            "text/plain": [
              "<Figure size 432x288 with 1 Axes>"
            ]
          },
          "metadata": {
            "tags": []
          }
        }
      ]
    },
    {
      "cell_type": "code",
      "metadata": {
        "id": "QYq8ADqHrpU7",
        "colab_type": "code",
        "colab": {}
      },
      "source": [
        "import matplotlib.pyplot as plt\n"
      ],
      "execution_count": 0,
      "outputs": []
    },
    {
      "cell_type": "code",
      "metadata": {
        "id": "8QCBbYLBCnnP",
        "colab_type": "code",
        "outputId": "5b416e50-64a2-474f-8013-4001dc1b38ed",
        "colab": {
          "base_uri": "https://localhost:8080/",
          "height": 300
        }
      },
      "source": [
        "player=[\"virat\",\"dhoni\",\"pandey\"]\n",
        "runs=[120,150,78]\n",
        "\n",
        "\n",
        "plt.xlabel(\"players\")\n",
        "plt.ylabel(\"runs\")\n",
        "plt.bar(player,runs)\n",
        "plt.grid(color='green')  #  to form  grid  in graph \n",
        "plt.legend() #   to show labels with plot  \n",
        "plt.show()"
      ],
      "execution_count": 0,
      "outputs": [
        {
          "output_type": "stream",
          "text": [
            "No handles with labels found to put in legend.\n"
          ],
          "name": "stderr"
        },
        {
          "output_type": "display_data",
          "data": {
            "image/png": "[encoded data removed]",
            "text/plain": [
              "<Figure size 432x288 with 1 Axes>"
            ]
          },
          "metadata": {
            "tags": []
          }
        }
      ]
    },
    {
      "cell_type": "code",
      "metadata": {
        "id": "eXDvwLezDGV-",
        "colab_type": "code",
        "outputId": "c6abac06-775e-481c-da74-e6a77684b644",
        "colab": {
          "base_uri": "https://localhost:8080/",
          "height": 67
        }
      },
      "source": [
        "import   numpy    as np\n",
        "\n",
        "# creating  1D  array\n",
        "\n",
        "a=np.array([2,3,5,79])\n",
        "b=np.array([12,13,15,179])\n",
        "\n",
        "#  adding  same  D  array\n",
        "c=a+b\n",
        "print(c)\n",
        "#   multi   \n",
        "m=a*b\n",
        "print(m)\n",
        "# add  particular  value in each  element of  array\n",
        "a5=a+5\n",
        "print(a5)\n"
      ],
      "execution_count": 0,
      "outputs": [
        {
          "output_type": "stream",
          "text": [
            "[ 14  16  20 258]\n",
            "[   24    39    75 14141]\n",
            "[ 7  8 10 84]\n"
          ],
          "name": "stdout"
        }
      ]
    },
    {
      "cell_type": "code",
      "metadata": {
        "id": "vb_qV-ITDODP",
        "colab_type": "code",
        "outputId": "ed4e1584-dab8-4c1b-dee4-feb56865423e",
        "colab": {
          "base_uri": "https://localhost:8080/",
          "height": 283
        }
      },
      "source": [
        "import  matplotlib.pyplot    as   plt\n",
        "#   only  loading  python ori  lib \n",
        "x=[2,3]\n",
        "x1=[4,3,8]\n",
        "y1=[2,9,7]\n",
        "y=[9,5]\n",
        "\n",
        "plt.xlabel(\"time\")\n",
        "plt.ylabel(\"speed\")\n",
        "plt.plot(x,y,label=\"water\")   #   this will draw a straight  line \n",
        "plt.plot(x1,y1,label=\"sand\")   #   this will draw a straight  line \n",
        "plt.bar(x,y)   #   to plot bar  graphs \n",
        "plt.bar(x1,y1)   #   to plot bar  graphs \n",
        "plt.grid(color='green')  #  to form  grid  in graph \n",
        "plt.legend() #   to show labels with plot  \n",
        "plt.xlim(0,12)  #  to show  min and max  number in x  axis \n",
        "plt.ylim(0,15)   #   y axis\n",
        "plt.show()\n"
      ],
      "execution_count": 0,
      "outputs": [
        {
          "output_type": "display_data",
          "data": {
            "image/png": "[encoded data removed]",
            "text/plain": [
              "<Figure size 432x288 with 1 Axes>"
            ]
          },
          "metadata": {
            "tags": []
          }
        }
      ]
    },
    {
      "cell_type": "code",
      "metadata": {
        "id": "0yc8SEcIDUXw",
        "colab_type": "code",
        "colab": {}
      },
      "source": [
        ""
      ],
      "execution_count": 0,
      "outputs": []
    }
  ]
}
