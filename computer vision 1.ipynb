{
 "cells": [
  {
   "cell_type": "code",
   "execution_count": 1,
   "metadata": {},
   "outputs": [],
   "source": [
    "import cv2\n"
   ]
  },
  {
   "cell_type": "code",
   "execution_count": 2,
   "metadata": {},
   "outputs": [
    {
     "name": "stdout",
     "output_type": "stream",
     "text": [
      "<VideoCapture 05672A40>\n"
     ]
    }
   ],
   "source": [
    "# starting camera \n",
    "cap=cv2.VideoCapture(0)\n",
    "print(cap)\n",
    "plugin=cv2.VideoWriter_fourcc(*'XVID')\n",
    "output=cv2.VideoWriter('class.avi',plugin,3,(640,480))"
   ]
  },
  {
   "cell_type": "code",
   "execution_count": 3,
   "metadata": {},
   "outputs": [],
   "source": [
    "while cap.isOpened():\n",
    "    status,frame=cap.read()\n",
    "    cv2.imshow('live',frame)\n",
    "    # draw pattern\n",
    "    output.write(frame)  # sending data to videowriter\n",
    "    if cv2.waitKey(10) & 0xff == ord('q'):\n",
    "            break\n",
    "# to close camera \n",
    "cv2.destroyAllWindows()\n",
    "cap.release()\n",
    "\n",
    "    "
   ]
  },
  {
   "cell_type": "code",
   "execution_count": 8,
   "metadata": {},
   "outputs": [],
   "source": [
    "import cv2\n",
    "# starting camera\n",
    "cap=cv2.VideoCapture(0)\n",
    "tp1=cap.read()[1]\n",
    "tp2=cap.read()[1]\n",
    "tp3=cap.read()[1]\n",
    "gray1=cv2.cvtColor(tp1,cv2.COLOR_BGR2GRAY)\n",
    "gray2=cv2.cvtColor(tp2,cv2.COLOR_BGR2GRAY)\n",
    "gray3=cv2.cvtColor(tp3,cv2.COLOR_BGR2GRAY)\n",
    "def img_diff(x,y,z):\n",
    "    d1=cv2.absdiff(x,y)\n",
    "    d2=cv2.absdiff(y,z)\n",
    "    final_img=cv2.bitwise_and(d1,d2)\n",
    "    return final_img\n",
    "\n",
    "while cap.isOpened():\n",
    "    status,frame=cap.read()\n",
    "    montorning=img_diff(gray1,gray2,gray3)\n",
    "    gray1=gray2\n",
    "    gray2=gray3\n",
    "    gray3=cv2.cvtColor(frame,cv2.COLOR_BGR2GRAY)\n",
    "    cv2.imshow('live',frame)\n",
    "    cv2.imshow('motion',montorning)\n",
    "    if cv2.waitKey(10) & 0xff == ord('q'):\n",
    "            break\n",
    "# to close camera \n",
    "cv2.destroyAllWindows()\n",
    "cap.release()"
   ]
  },
  {
   "cell_type": "code",
   "execution_count": null,
   "metadata": {},
   "outputs": [],
   "source": []
  }
 ],
 "metadata": {
  "kernelspec": {
   "display_name": "Python 3",
   "language": "python",
   "name": "python3"
  },
  "language_info": {
   "codemirror_mode": {
    "name": "ipython",
    "version": 3
   },
   "file_extension": ".py",
   "mimetype": "text/x-python",
   "name": "python",
   "nbconvert_exporter": "python",
   "pygments_lexer": "ipython3",
   "version": "3.7.3"
  }
 },
 "nbformat": 4,
 "nbformat_minor": 2
}
